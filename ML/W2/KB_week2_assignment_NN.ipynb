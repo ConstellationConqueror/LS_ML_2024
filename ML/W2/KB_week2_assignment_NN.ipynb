{
  "nbformat": 4,
  "nbformat_minor": 0,
  "metadata": {
    "colab": {
      "provenance": []
    },
    "kernelspec": {
      "name": "python3",
      "display_name": "Python 3"
    },
    "language_info": {
      "name": "python"
    }
  },
  "cells": [
    {
      "cell_type": "code",
      "execution_count": 3,
      "metadata": {
        "id": "wEvN5CqS-nUw"
      },
      "outputs": [],
      "source": [
        "!wget -q https://github.com/wncc/Machine-Learning-LS-24/raw/main/Week%202/Assignment/Neural%20Network%20Assignment/homer_bart.zip -O images.zip"
      ]
    },
    {
      "cell_type": "code",
      "source": [
        "!unzip -q images.zip -d images"
      ],
      "metadata": {
        "id": "kUJ-AhtJ_wfS"
      },
      "execution_count": 4,
      "outputs": []
    },
    {
      "cell_type": "markdown",
      "source": [
        "Importing Libraries"
      ],
      "metadata": {
        "id": "sbBxWZS7A01v"
      }
    },
    {
      "cell_type": "code",
      "source": [
        "import torch\n",
        "import torch.nn as nn\n",
        "import torch.optim as optim\n",
        "import torchvision.transforms as transforms\n",
        "import os\n",
        "import pandas as pd\n",
        "from PIL import Image\n",
        "from torch.utils.data import Dataset, DataLoader, random_split"
      ],
      "metadata": {
        "id": "r0ZyLM4B_zA_"
      },
      "execution_count": 70,
      "outputs": []
    },
    {
      "cell_type": "markdown",
      "source": [
        "Selecting Device"
      ],
      "metadata": {
        "id": "AmipoiVcA4da"
      }
    },
    {
      "cell_type": "code",
      "source": [
        "device = torch.device(\"cuda\" if torch.cuda.is_available() else \"cpu\")\n",
        "print(device)"
      ],
      "metadata": {
        "colab": {
          "base_uri": "https://localhost:8080/"
        },
        "id": "APPOLLcOA63P",
        "outputId": "3ec60c2f-6fc4-40ce-b55c-8b7e49084c7d"
      },
      "execution_count": 71,
      "outputs": [
        {
          "output_type": "stream",
          "name": "stdout",
          "text": [
            "cpu\n"
          ]
        }
      ]
    },
    {
      "cell_type": "markdown",
      "source": [
        "Defining our Dataset"
      ],
      "metadata": {
        "id": "zFcgurZPZ3sm"
      }
    },
    {
      "cell_type": "code",
      "source": [
        "class SimpsonsDataset(Dataset):\n",
        "    def __init__(self, root_dir, transform=None):\n",
        "        self.root_dir = root_dir\n",
        "        self.transform = transform\n",
        "        self.images = []\n",
        "        self.labels = []\n",
        "        for label, character in enumerate([\"Bart\", \"Homer\"]):\n",
        "            character_dir = os.path.join(root_dir, character)\n",
        "            for img_file in os.listdir(character_dir):\n",
        "                if img_file.endswith((\".jpg\", \".jpeg\", \".png\", \".bmp\")):\n",
        "                    self.images.append(os.path.join(character_dir, img_file))\n",
        "                    self.labels.append(label)\n",
        "\n",
        "    def __len__(self):\n",
        "        return len(self.images)\n",
        "\n",
        "    def __getitem__(self, index):\n",
        "        img_path = self.images[index]\n",
        "        image = Image.open(img_path).convert(\"RGB\")\n",
        "        label = torch.tensor(self.labels[index])\n",
        "\n",
        "        if self.transform:\n",
        "            image = self.transform(image)\n",
        "\n",
        "        label = torch.tensor(self.labels[index], dtype=torch.float32)\n",
        "        return image, label"
      ],
      "metadata": {
        "id": "D7qCv71wA8jB"
      },
      "execution_count": 72,
      "outputs": []
    },
    {
      "cell_type": "markdown",
      "source": [
        "Resizing and converting our data to tensor"
      ],
      "metadata": {
        "id": "tSwx4azaZ7MR"
      }
    },
    {
      "cell_type": "code",
      "source": [
        "transform = transforms.Compose([\n",
        "    transforms.Resize((64, 64)),\n",
        "    transforms.ToTensor(),\n",
        "])"
      ],
      "metadata": {
        "id": "8NZZJ9E0BVso"
      },
      "execution_count": 73,
      "outputs": []
    },
    {
      "cell_type": "code",
      "source": [
        "dataset = SimpsonsDataset(root_dir=\"/content/images\", transform=transform)"
      ],
      "metadata": {
        "id": "seDVvriQBcOC"
      },
      "execution_count": 74,
      "outputs": []
    },
    {
      "cell_type": "markdown",
      "source": [
        "9:1 train:test ratio as asked"
      ],
      "metadata": {
        "id": "wn16nLgNaBQY"
      }
    },
    {
      "cell_type": "code",
      "source": [
        "test_size = int(0.1 * len(dataset))\n",
        "train_size = len(dataset) - test_size\n",
        "train_set, test_set = random_split(dataset, [train_size, test_size])"
      ],
      "metadata": {
        "id": "3qYP2J-8Be1w"
      },
      "execution_count": 75,
      "outputs": []
    },
    {
      "cell_type": "code",
      "source": [
        "batch_size = 32\n",
        "train_loader = DataLoader(dataset=train_set, batch_size=batch_size, shuffle=True)\n",
        "test_loader = DataLoader(dataset=test_set, batch_size=batch_size, shuffle=True)"
      ],
      "metadata": {
        "id": "duP7SUs2CKl7"
      },
      "execution_count": 76,
      "outputs": []
    },
    {
      "cell_type": "markdown",
      "source": [
        "Creating our Neural Net Architecture"
      ],
      "metadata": {
        "id": "WF1qsGp5aMYi"
      }
    },
    {
      "cell_type": "code",
      "source": [
        "class SimpleNN(nn.Module):\n",
        "    def __init__(self):\n",
        "        super(SimpleNN, self).__init__()\n",
        "        self.flatten = nn.Flatten()\n",
        "        self.fc1 = nn.Linear(64*64*3, 128)\n",
        "        self.fc2 = nn.Linear(128, 64)\n",
        "        self.fc3 = nn.Linear(64, 1)\n",
        "\n",
        "\n",
        "    def forward(self, x):\n",
        "        x = self.flatten(x)\n",
        "        x = torch.relu(self.fc1(x))\n",
        "        x = torch.relu(self.fc2(x))\n",
        "        x = torch.sigmoid(self.fc3(x))\n",
        "        return x"
      ],
      "metadata": {
        "id": "JkPhG3nJCLFp"
      },
      "execution_count": 77,
      "outputs": []
    },
    {
      "cell_type": "code",
      "source": [
        "model = SimpleNN().to(device)"
      ],
      "metadata": {
        "id": "uxEkA2BpCOhu"
      },
      "execution_count": 78,
      "outputs": []
    },
    {
      "cell_type": "markdown",
      "source": [
        "Loss and optimizer"
      ],
      "metadata": {
        "id": "jhBwa97taUNG"
      }
    },
    {
      "cell_type": "code",
      "source": [
        "criterion = nn.BCELoss()\n",
        "optimizer = optim.Adam(model.parameters(), lr=0.0001, weight_decay=1e-5)"
      ],
      "metadata": {
        "id": "wDlZz-0sCQkE"
      },
      "execution_count": 79,
      "outputs": []
    },
    {
      "cell_type": "markdown",
      "source": [
        "Training the Network"
      ],
      "metadata": {
        "id": "9IWAEXR-aW8P"
      }
    },
    {
      "cell_type": "code",
      "source": [
        "num_epochs = 50\n",
        "for epoch in range(num_epochs):\n",
        "    model.train()\n",
        "    losses = []\n",
        "    for batch_idx, (data, targets) in enumerate(train_loader):\n",
        "        data = data.to(device)\n",
        "        targets = targets.to(device).float().unsqueeze(1)\n",
        "\n",
        "        # forward\n",
        "        outputs = model(data)\n",
        "        loss = criterion(outputs, targets)\n",
        "\n",
        "        # backward\n",
        "        optimizer.zero_grad()\n",
        "        loss.backward()\n",
        "        optimizer.step()\n",
        "\n",
        "        losses.append(loss.item())\n",
        "\n",
        "    print(f\"Cost at epoch {epoch+1}: {sum(losses)/len(losses):.4f}\")"
      ],
      "metadata": {
        "colab": {
          "base_uri": "https://localhost:8080/"
        },
        "id": "Pe_Kp1pBCSew",
        "outputId": "dbc337a4-3552-4ff4-eb85-2557d356baf0"
      },
      "execution_count": 80,
      "outputs": [
        {
          "output_type": "stream",
          "name": "stderr",
          "text": [
            "/usr/lib/python3.10/multiprocessing/popen_fork.py:66: RuntimeWarning: os.fork() was called. os.fork() is incompatible with multithreaded code, and JAX is multithreaded, so this will likely lead to a deadlock.\n",
            "  self.pid = os.fork()\n",
            "/usr/lib/python3.10/multiprocessing/popen_fork.py:66: RuntimeWarning: os.fork() was called. os.fork() is incompatible with multithreaded code, and JAX is multithreaded, so this will likely lead to a deadlock.\n",
            "  self.pid = os.fork()\n"
          ]
        },
        {
          "output_type": "stream",
          "name": "stdout",
          "text": [
            "Cost at epoch 1: 0.6790\n",
            "Cost at epoch 2: 0.6539\n",
            "Cost at epoch 3: 0.6388\n",
            "Cost at epoch 4: 0.6181\n",
            "Cost at epoch 5: 0.5978\n",
            "Cost at epoch 6: 0.5723\n",
            "Cost at epoch 7: 0.5607\n",
            "Cost at epoch 8: 0.5499\n",
            "Cost at epoch 9: 0.5323\n",
            "Cost at epoch 10: 0.5556\n",
            "Cost at epoch 11: 0.5447\n",
            "Cost at epoch 12: 0.5319\n",
            "Cost at epoch 13: 0.4958\n",
            "Cost at epoch 14: 0.4806\n",
            "Cost at epoch 15: 0.4913\n",
            "Cost at epoch 16: 0.4899\n",
            "Cost at epoch 17: 0.4564\n",
            "Cost at epoch 18: 0.4552\n",
            "Cost at epoch 19: 0.4369\n",
            "Cost at epoch 20: 0.4282\n",
            "Cost at epoch 21: 0.4244\n",
            "Cost at epoch 22: 0.4080\n",
            "Cost at epoch 23: 0.4131\n",
            "Cost at epoch 24: 0.4311\n",
            "Cost at epoch 25: 0.4070\n",
            "Cost at epoch 26: 0.4447\n",
            "Cost at epoch 27: 0.4568\n",
            "Cost at epoch 28: 0.4452\n",
            "Cost at epoch 29: 0.3900\n",
            "Cost at epoch 30: 0.3797\n",
            "Cost at epoch 31: 0.3839\n",
            "Cost at epoch 32: 0.3910\n",
            "Cost at epoch 33: 0.3621\n",
            "Cost at epoch 34: 0.3408\n",
            "Cost at epoch 35: 0.3413\n",
            "Cost at epoch 36: 0.3303\n",
            "Cost at epoch 37: 0.3253\n",
            "Cost at epoch 38: 0.3194\n",
            "Cost at epoch 39: 0.3219\n",
            "Cost at epoch 40: 0.3093\n",
            "Cost at epoch 41: 0.2981\n",
            "Cost at epoch 42: 0.2963\n",
            "Cost at epoch 43: 0.2977\n",
            "Cost at epoch 44: 0.2813\n",
            "Cost at epoch 45: 0.2824\n",
            "Cost at epoch 46: 0.2674\n",
            "Cost at epoch 47: 0.2723\n",
            "Cost at epoch 48: 0.2657\n",
            "Cost at epoch 49: 0.2527\n",
            "Cost at epoch 50: 0.2551\n"
          ]
        }
      ]
    },
    {
      "cell_type": "markdown",
      "source": [
        "Checking accuracy on training to see how good our model is"
      ],
      "metadata": {
        "id": "QB8qc6TGabRx"
      }
    },
    {
      "cell_type": "code",
      "source": [
        "def check_accuracy(loader, model):\n",
        "    num_correct = 0\n",
        "    num_samples = 0\n",
        "    model.eval()\n",
        "\n",
        "    with torch.no_grad():\n",
        "        for data, targets in loader:\n",
        "            data = data.to(device)\n",
        "            targets = targets.to(device).unsqueeze(1)\n",
        "            outputs = model(data)\n",
        "            predictions = (outputs >= 0.5).float()\n",
        "            num_correct += (predictions == targets).sum()\n",
        "            num_samples += predictions.size(0)\n",
        "\n",
        "    accuracy = float(num_correct) / float(num_samples) * 100\n",
        "    print(\n",
        "          f\"Got {num_correct} / {num_samples} with accuracy {float(num_correct)/float(num_samples)*100:.2f}\"\n",
        "      )\n",
        "    print(f\"Accuracy: {accuracy:.2f}%\")\n",
        "    return accuracy"
      ],
      "metadata": {
        "id": "9rJk0XDzCbtc"
      },
      "execution_count": 81,
      "outputs": []
    },
    {
      "cell_type": "markdown",
      "source": [
        "Now similarly check accuracy on test data"
      ],
      "metadata": {
        "id": "K00lyx9hadrh"
      }
    },
    {
      "cell_type": "code",
      "source": [
        "print(\"Checking accuracy on Test Set\")\n",
        "accuracy = check_accuracy(test_loader, model)\n",
        "\n",
        "if accuracy > 80:\n",
        "    print(f\"Passed: Test Accuracy is greater than 80% with a great accuracy of {accuracy:.2f}% !!!\")\n",
        "else:\n",
        "    print(f\"Failed: Test Accuracy is less than 80% and is {accuracy:.2f}%, let's try again to do better :)\")"
      ],
      "metadata": {
        "colab": {
          "base_uri": "https://localhost:8080/"
        },
        "id": "ReC4hvHqCmNo",
        "outputId": "19ea3b41-9c1e-4509-e8de-cd5f8bc536e6"
      },
      "execution_count": 82,
      "outputs": [
        {
          "output_type": "stream",
          "name": "stdout",
          "text": [
            "Checking accuracy on Test Set\n",
            "Got 24 / 26 with accuracy 92.31\n",
            "Accuracy: 92.31%\n",
            "Passed: Test Accuracy is greater than 80% with a great accuracy of 92.31% !!!\n"
          ]
        }
      ]
    }
  ]
}